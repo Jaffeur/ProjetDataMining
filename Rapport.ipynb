{
 "metadata": {
  "name": "",
  "signature": "sha256:ac9e6aab3cddee72c578010b30efc89c1dabcb23f24cf04ebf42b32885ee2adb"
 },
 "nbformat": 3,
 "nbformat_minor": 0,
 "worksheets": [
  {
   "cells": [
    {
     "cell_type": "heading",
     "level": 1,
     "metadata": {},
     "source": [
      "PROJECT DATA MINING"
     ]
    },
    {
     "cell_type": "heading",
     "level": 2,
     "metadata": {},
     "source": [
      "Introduction"
     ]
    },
    {
     "cell_type": "markdown",
     "metadata": {},
     "source": [
      "\n",
      "The product offer of supermarkets is large and complex and it can be very challenging for consumers to navigate into it.\n",
      "This complexity is an obstacle for conducting basic actions such as:\n",
      "- comparing price between supermarkets\n",
      "- find similar products in order to reach a specific budget\n",
      "- switch products to match a specific behaviour (organic, hallal, gluten-free...)\n",
      "\n",
      "The objective of this project is to provide consumers with a navigation tool that will his shopping easier more efficient and powerful.\n",
      "\n",
      "The following steps have been followed:\n",
      "- Step 1: Crawl product inventories from online supermarkets\n",
      "- Step 2: Data cleaning (avoid redundancy, completion, formating)\n",
      "- Step 3: Build Distance Functions between products to allow efficient substitutions\n",
      "- Step 4: Find the best candidate for a given shopping cart"
     ]
    },
    {
     "cell_type": "heading",
     "level": 2,
     "metadata": {},
     "source": [
      "Crawling inventories"
     ]
    },
    {
     "cell_type": "markdown",
     "metadata": {},
     "source": [
      "For this project, we have focused our efforts on 3 online supermakets: Auchan, Monoprix and Simply.\n",
      "But the approach that we will detail below can be easily applied to any supermarket website, as they all share a similar architecture:\n",
      "- a welcome page with links to different categories (beverage, meat, fruit...)\n",
      "- inside each category, you will have different level a sub-categories (alcohol, juice, soda...)\n",
      "- after a couple of categorization levels (usually between 1 and 5), you reach the product offer\n",
      "- by clicking on each product, you reach a \"product page\" where detailed information (description, energetic values, price...) is displayed\n",
      "\n",
      "Our crawlers are built in two steps:\n",
      "- navigate through the categories to collect \"product page\" urls\n",
      "- extract relevant information for each \"product page\"\n",
      "\n",
      "The Python code for the first step is described below:"
     ]
    },
    {
     "cell_type": "code",
     "collapsed": false,
     "input": [
      "import requests\n",
      "from bs4 import BeautifulSoup\n",
      "import pandas as pd\n",
      "import re\n",
      "\n",
      "#different levels of categorization\n",
      "rayonsA=[]\n",
      "rayonsB=[]\n",
      "rayonsC=[]\n",
      "rayonsD=[]\n",
      "rayonsE=[]\n",
      "productLink=[]\n",
      "\n",
      "#start at welcome page and get first level categories\n",
      "url='http://www.livraison.simplymarket.fr/'\n",
      "r = requests.get(url)\n",
      "soup = BeautifulSoup(r.text,'html.parser')\n",
      "balises_a=soup.find_all(\"a\",class_='linkMenu')\n",
      "\n",
      "for balise_a in balises_a:\n",
      "\trayonsA.append('http://www.livraison.simplymarket.fr/'+balise_a.get('href'))\n",
      "\n",
      "#navigate in each Level-1 category\n",
      "for rayonA in rayonsA:\n",
      "\tr = requests.get(rayonA)\n",
      "\tsoup = BeautifulSoup(r.text,'html.parser')\n",
      "\tbalises_a=soup.find_all(\"a\",class_='lienProduit')\n",
      "\tbalises_tr=soup.find_all(\"tr\",class_='trLibelle')\n",
      "\n",
      "#find product pages, if any, and add it to the list\n",
      "\tfor balise_a in balises_a:\n",
      "\t\tproductLink.append('http://www.livraison.simplymarket.fr/'+balise_a.get('href'))\n",
      "\n",
      "#if no product pages can be found, find Level-2 categories\n",
      "\tif balises_a==[]:\n",
      "\t\tfor balise_tr in balises_tr:\n",
      "\t\t\trayonsB.append('http://www.livraison.simplymarket.fr/'+balise_tr.find(\"a\").get('href'))\n"
     ],
     "language": "python",
     "metadata": {},
     "outputs": []
    },
    {
     "cell_type": "markdown",
     "metadata": {},
     "source": [
      "This algorithm is repeated over each level of categorization until no new category is discovered.\n",
      "At the end, the variable productLink is a list that contains all the \"product page\" urls and we can move to the second step.\n",
      "\n",
      "The second step consist in scrapping the relevant part of the html code of each \"product page\" that contains the following fields:\n",
      "- product_name\n",
      "- brand\n",
      "- quantity (eg 6 for 6x33cL)\n",
      "- weight/volume (eg 33 for 6x33cL)\n",
      "- weight/volume_total (eg 200 for 6x33cL)\n",
      "- unit (eg cL)\n",
      "- description\n",
      "- ingredients\n",
      "- preservation\n",
      "- nutritional details\n",
      "- origin\n",
      "- price\n",
      "- price per unit"
     ]
    },
    {
     "cell_type": "heading",
     "level": 2,
     "metadata": {},
     "source": [
      "Data Cleaning"
     ]
    },
    {
     "cell_type": "markdown",
     "metadata": {},
     "source": [
      "Once the html code containing these data has been scrapped, it needs to be parsed and cleaned in order to fill the table with the correct values.\n",
      "Ideally, we would have stored the code in a text database, such as MongoDB, and then build a parser to transfer information from MongDB to a standard relationnal database.\n",
      "For this project, we have scrapped and clean the data at the same time and build a csv file gathering the data.\n",
      "\n",
      "First, the parsing/cleaning stage consists in understanding the structure of the html code.\n",
      "For example:"
     ]
    },
    {
     "cell_type": "code",
     "collapsed": false,
     "input": [
      "<div id=\"produit\" style=\"position: relative; z-index: 10;\">\n",
      "    <div id=\"photoProduit\" class=\"photoProduitNonCatalogue\" style=\"position: relative; z-index:10\">\n",
      "        <table cellspacing=\"0\" cellpadding=\"0\" width=\"100%\">\n",
      "            <tbody><tr class=\"trImage\">\n",
      "                <td class=\"aligncenter\">\n",
      "                                                                <img src=\"http://media.simplymarket.fr/PHOTO2/3104544/016354.jpg\" height=\"319px\" alt=\"Achats FOIE GRAS DE CANARD ENTIER SUD OUEST GASTRONOMIQUE MONTFORT 300G - FOIE GRAS - Cybermarch\u00e9 - Simply Market Livraison\" style=\"width: 319px; height: 319px;\">\n",
      "                                    </td>\n",
      "            </tr>\n",
      "        </tbody></table>\n",
      "    </div>\n",
      "\n",
      "            <div class=\"etiquette\" style=\"position :absolute; z-index: 20;\">\n",
      "            <table>\n",
      "                                <tbody><tr>\n",
      "                    <td class=\"prix\">\n",
      "                        <strong>\n",
      "                                                            29,90&nbsp;\u20ac\n",
      "                                                    </strong>\n",
      "                    </td>\n",
      "                </tr>\n",
      "                                <tr>\n",
      "                    <td class=\"prixUnitaire\">\n",
      "                        <strong>99,67&nbsp;\u20ac/Kg</strong>\n",
      "                    </td>\n",
      "                </tr>\n",
      "                                <tr>\n",
      "                    <td>\n",
      "                                                                                                                                                                <div class=\"offre texteLotEuro\">\n",
      "                                                                    \n",
      "                                Sur ce produit :\n",
      "                                <br>\n",
      "                                                                    <strong>Economisez </strong><span>14,95&nbsp;\u20ac</span>\n",
      "                                \n",
      "                                                                </div>\n",
      "                                                                        </td>\n",
      "                </tr>\n",
      "            </tbody></table>\n",
      "        </div>\n",
      "    \n",
      "    <div class=\"redactionnel\">\n",
      "        <div class=\"texteProduit\">\n",
      "            <h1>FOIE GRAS DE CANARD ENTIER SUD OUEST GASTRONOMIQUE MONTFORT 300G - Montfort</h1>\n",
      "        </div>\n",
      "                <div class=\"texteProduit\">\n",
      "            <label>Prix quantit\u00e9</label><br>\n",
      "            99,67&nbsp;\u20ac/Kg\n",
      "        </div>\n",
      "        \n",
      "                <div class=\"texteProduit\">\n",
      "            <label>Descriptif</label><br>\n",
      "            Foie gras de canard entier du Sud Ouest.\n",
      "        </div>\n",
      "        \n",
      "                <div class=\"texteProduit\">\n",
      "            <label>Avantages</label><br>\n",
      "            <div>La recette du Gastronomique est inspir\u00e9e des pr\u00e9parations des plus grands Chefs : une cuisson lente et \u00e0 basse temp\u00e9rature qui permet de pr\u00e9server toutes les saveurs du foie gras et de sublimer sa texture, comme dans les grands restaurants.</div><div>&nbsp;- Un label IGP Sud-Ouest gage de qualit\u00e9 et de tra\u00e7abilit\u00e9.</div><div>- Un Foie Gras Entier : le meilleur du Foie Gras.</div><div>- un Foie Gras d\u00e9moulable pour des tranches trap\u00e8zes r\u00e9guli\u00e8res</div><div>- pour 8 \u00e0 9 parts.</div>\n",
      "        </div>\n",
      "        \n",
      "                <div class=\"texteProduit\">\n",
      "            <label>Ingr\u00e9dients</label><br>\n",
      "            Foie gras de canard, sel, Armagnac, Porto, poivre, sucre, antioxydant : ascorbate de sodium, conservateur : nitrite de sodium.\n",
      "        </div>\n",
      "        \n",
      "                <div class=\"texteProduit\">\n",
      "            <label>Conservation</label><br>\n",
      "            A conserver au r\u00e9frig\u00e9rateur entre 0\u00b0C et +4\u00b0C. A consommer rapidement apr\u00e8s ouverture.\n",
      "        </div>\n",
      "        \n",
      "                <div class=\"texteProduit\">\n",
      "            <label>Renseignements pratiques</label><br>\n",
      "            <p>Sortir le produit du r\u00e9frig\u00e9rateur quelques minutes avant de le d\u00e9guster.</p><p>Euralis Gastronomie<br>Av. Gaston Phoebus 64230 LESCAR&nbsp;</p>\n",
      "        </div>\n",
      "        \n",
      "                <div class=\"texteProduit\">\n",
      "            <label>Valeurs \u00e9nerg\u00e9tiques</label><br>\n",
      "            <div>Valeurs moyennes pour 100g : <br>Energie: 2101kJ - 510kcal<br>Mati\u00e8res grasses: 52g; Dont acides gras satur\u00e9s: 20,2g<br>Glucides: 2,6g; Dont sucres: 0,5g<br>Fibres alimentaires: 0g<br>Prot\u00e9ines: 8,0g<br>Sel: 1,13g</div>\n",
      "        </div>\n",
      "        \n",
      "        \n",
      "            </div>\n",
      "\n",
      "    <form method=\"get\" action=\"produit.php\">\n",
      "        <table>\n",
      "            <tbody><tr class=\"trFooter\">\n",
      "                <td>\n",
      "                    <table class=\"footer\" cellspacing=\"0\" cellpadding=\"0\">\n",
      "                        <tbody><tr>\n",
      "                                                            <td class=\"quantite\">\n",
      "                                    <table class=\"qtePicto\">\n",
      "                                        <tbody><tr>\n",
      "                                            <td>\n",
      "                                            <a href=\"javascript:addP('PRO_QUANTITE_217751', -1)\">\n",
      "                                            <img src=\"http://www.livraison.simplymarket.fr/images_27/pictoMoins3.png\" alt=\"Moins\"></a>\n",
      "                                            </td>\n",
      "                                            <td style=\"background-color: #FFFFFF;\">\n",
      "                                                <label for=\"PRO_QUANTITE_217751\" class=\"isNotNull isInt invisible\">Quantit\u00e9</label>\n",
      "                                                <input value=\"1\" size=\"2\" maxlength=\"2\" name=\"PRO_QUANTITE\" id=\"PRO_QUANTITE_217751\" type=\"text\" class=\"alignright\">\n",
      "                                            </td>\n",
      "                                            <td>\n",
      "                                            <a href=\"javascript:addP('PRO_QUANTITE_217751', 1)\">\n",
      "                                            <img src=\"http://www.livraison.simplymarket.fr/images_27/pictoPlus3.png\" alt=\"Plus\"></a>\n",
      "                                            </td>\n",
      "                                        </tr>\n",
      "                                    </tbody></table>\n",
      "                                </td>\n",
      "                                <td class=\"panier aligncenter\">\n",
      "                                    <input name=\"idP\" value=\"217751\" type=\"hidden\"><input name=\"idR\" value=\"377\" type=\"hidden\"><input name=\"idS\" value=\"1770\" type=\"hidden\">\n",
      "                                    <input type=\"hidden\" name=\"reloadProduit\" value=\"1\">\n",
      "                                    <input name=\"addP\" value=\"217751\" type=\"hidden\">\n",
      "                                                                                                                        <input type=\"image\" src=\"http://www.livraison.simplymarket.fr/images_27/caddie.png\" class=\"image\">\n",
      "                                                                                                            </td>\n",
      "                                <td class=\"liste aligncenter\">\n",
      "                                                                        <a href=\"#\" onclick=\"javascript:window.parent.YAHOO.ownFrame.close();window.parent.YAHOO.ownFrameAlerte.showSmooth('Vous devez vous identifier pour acc\u00e9der \u00e0 cette fonctionnalit\u00e9','alert','');return false;\">\n",
      "                                    <img src=\"http://www.livraison.simplymarket.fr/images_27/ajoutListeBig.png\" title=\"Ajouter \u00e0 la liste\">\n",
      "                                    </a>\n",
      "                                                                    </td>\n",
      "                                                    </tr>\n",
      "                        </tbody></table>\n",
      "                    </td>\n",
      "                </tr>\n",
      "        </tbody></table>\n",
      "    </form>\n",
      "\n",
      "        <div id=\"logoProduit\">\n",
      "        <table width=\"100%\" cellspacing=\"0\" cellpadding=\"0\">\n",
      "            <tbody><tr>\n",
      "                                                                                                            <td>\n",
      "                           <img src=\"http://media.simplymarket.fr/LOGOTYPE/d7/LOG_LOGO_113_1387182117.gif\" onmouseover=\"return overlib('\t\t\t\t                \t\t\t\t                <div align=\\&quot;center\\&quot;>Produits frais.<br />A conserver entre 0&amp;deg; et 4&amp;deg;.<br /></div><div align=\\&quot;center\\&quot;>\t\t\t\t\t\t\t\t</div>               \t\t\t\t\t               \t\t\t\t\t', CENTER, VAUTO);\" onmouseout=\"return nd();\">\n",
      "                    </td>\n",
      "                                        </tr>\n",
      "        </tbody></table>\n",
      "    </div>\n",
      "    </div>"
     ],
     "language": "python",
     "metadata": {},
     "outputs": []
    },
    {
     "cell_type": "markdown",
     "metadata": {},
     "source": [
      "For this example, we can observe that each piece of information is preceded by its label (eg 'Conservation'). The parser will try to find these labels and if they exist, it will take the information that comes right after and store it in the relevant variable."
     ]
    },
    {
     "cell_type": "code",
     "collapsed": false,
     "input": [
      "if 'Conservation' in reduced_prod_info:\n",
      "\t\t\tindex_conservation=reduced_prod_info.index('Conservation')\n",
      "\t\t\tconservation=reduced_prod_info[index_conservation+1]"
     ],
     "language": "python",
     "metadata": {},
     "outputs": []
    },
    {
     "cell_type": "markdown",
     "metadata": {},
     "source": [
      "Some data are stored in a different format than expected in our database. To solve this, we have used regular expressions in order to recognize patterns and extract exactly what we were looking for.\n",
      "Example:\n",
      "FOIE GRAS DE CANARD ENTIER SUD OUEST GASTRONOMIQUE MONTFORT 300G - Montfort\n",
      "\n",
      "We want to have:\n",
      "name = FOIE GRAS DE CANARD ENTIER SUD OUEST GASTRONOMIQUE MONTFORT\n",
      "quantity = 1\n",
      "weight/volume = 300\n",
      "unit=G\n",
      "\n",
      "In Python, this will translate:"
     ]
    },
    {
     "cell_type": "code",
     "collapsed": false,
     "input": [
      "title=re.match(r'(.*)\\s(\\d+\\.?\\d+?)(KG|G|ML|CL|L)',nom)\n",
      "\t\tif title!=None:\n",
      "\t\t\tnom=title.group(1)\n",
      "\t\t\tquantite=1\n",
      "\t\t\tpoids_volume_total=title.group(2)\n",
      "\t\t\tunite=title.group(3)"
     ],
     "language": "python",
     "metadata": {},
     "outputs": []
    },
    {
     "cell_type": "markdown",
     "metadata": {},
     "source": [
      "By iterating this operation on most observed formats, we managed to build a clean dataset available for analysis."
     ]
    },
    {
     "cell_type": "heading",
     "level": 2,
     "metadata": {},
     "source": [
      "Distance between products"
     ]
    },
    {
     "cell_type": "code",
     "collapsed": false,
     "input": [],
     "language": "python",
     "metadata": {},
     "outputs": []
    }
   ],
   "metadata": {}
  }
 ]
}