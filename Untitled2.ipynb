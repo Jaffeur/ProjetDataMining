{
 "metadata": {
  "name": "",
  "signature": "sha256:cccb8978c9c6843ec4b82cd2d89c09898ca29215ece61b71cc910b01be8c5529"
 },
 "nbformat": 3,
 "nbformat_minor": 0,
 "worksheets": [
  {
   "cells": [
    {
     "cell_type": "code",
     "collapsed": false,
     "input": [
      "# compute the Jaccard distance between two sentences\n",
      "def DistJaccard(str1, str2):\n",
      "    if str1 != '' and str2 != '':\n",
      "        str1 = set(str1.split())\n",
      "        str2 = set(str2.split())\n",
      "        return 1.0 - float(len(str1 & str2)) / len(str1 | str2)\n",
      "    else:\n",
      "        return numpy.nan"
     ],
     "language": "python",
     "metadata": {},
     "outputs": []
    }
   ],
   "metadata": {}
  }
 ]
}